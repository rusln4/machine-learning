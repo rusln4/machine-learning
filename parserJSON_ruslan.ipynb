{
 "cells": [
  {
   "cell_type": "markdown",
   "id": "7167135c-2eff-4c5f-8283-49a283fda66f",
   "metadata": {},
   "source": [
    "## Парсинг данных с json файла"
   ]
  },
  {
   "cell_type": "markdown",
   "id": "f3b2b0d8-c537-453c-8da5-22542b81d1da",
   "metadata": {},
   "source": [
    "### Подключение библиотек"
   ]
  },
  {
   "cell_type": "code",
   "execution_count": 247,
   "id": "721c19f3-2dd5-45c9-a68b-1adeb51c1c8c",
   "metadata": {},
   "outputs": [],
   "source": [
    "from pathlib import Path\n",
    "import pandas as pd\n",
    "import io\n",
    "import glob\n",
    "import json"
   ]
  },
  {
   "cell_type": "markdown",
   "id": "64522d44-fda9-482d-8570-be602cc6022d",
   "metadata": {},
   "source": [
    "### Получение информаций"
   ]
  },
  {
   "cell_type": "markdown",
   "id": "1531053f-ea59-4709-a601-50bdca94a556",
   "metadata": {},
   "source": [
    "#### Инициализация списков для храниения данных"
   ]
  },
  {
   "cell_type": "code",
   "execution_count": 251,
   "id": "7157d186-a025-4fed-90a5-56bf9b3f13f5",
   "metadata": {},
   "outputs": [],
   "source": [
    "result_list = {\"nameCompany\": [], \"info\": [], \"text\": [], \"date\": [], \"rate\": [], \"views\": []}\n"
   ]
  },
  {
   "cell_type": "markdown",
   "id": "bb207157-3110-4782-b6b5-f785b7918041",
   "metadata": {},
   "source": [
    "#### Считываем JSON-файлы"
   ]
  },
  {
   "cell_type": "code",
   "execution_count": 254,
   "id": "fedf3821-710e-44b9-b1fa-5e0d4c0e4f7b",
   "metadata": {},
   "outputs": [],
   "source": [
    "dir_json_files = glob.glob(\"/Users/ruslanhudakov/Downloads/Data 2/*\")"
   ]
  },
  {
   "cell_type": "code",
   "execution_count": 256,
   "id": "37b061c0-bd98-470e-8b6d-d5e7c98bb9d0",
   "metadata": {},
   "outputs": [
    {
     "data": {
      "text/plain": [
       "14"
      ]
     },
     "execution_count": 256,
     "metadata": {},
     "output_type": "execute_result"
    }
   ],
   "source": [
    "len(dir_json_files)"
   ]
  },
  {
   "cell_type": "code",
   "execution_count": 258,
   "id": "b1d854f1-e066-4923-836e-d3c34106365e",
   "metadata": {},
   "outputs": [
    {
     "data": {
      "text/plain": [
       "['/Users/ruslanhudakov/Downloads/Data 2/Гэллэри Сервис.json',\n",
       " '/Users/ruslanhudakov/Downloads/Data 2/ESforce Holding.json',\n",
       " '/Users/ruslanhudakov/Downloads/Data 2/skillbox.json',\n",
       " '/Users/ruslanhudakov/Downloads/Data 2/Goose Gaming.json',\n",
       " '/Users/ruslanhudakov/Downloads/Data 2/Промобот.json',\n",
       " '/Users/ruslanhudakov/Downloads/Data 2/Здоровье.ру.json',\n",
       " '/Users/ruslanhudakov/Downloads/Data 2/Студия Артемия Лебедева.json',\n",
       " '/Users/ruslanhudakov/Downloads/Data 2/Федерация креативных индустрий.json',\n",
       " '/Users/ruslanhudakov/Downloads/Data 2/Vinci Agency.json',\n",
       " '/Users/ruslanhudakov/Downloads/Data 2/Gett.json',\n",
       " '/Users/ruslanhudakov/Downloads/Data 2/Cybersport.Metaratings.json',\n",
       " '/Users/ruslanhudakov/Downloads/Data 2/Иннотех.json',\n",
       " '/Users/ruslanhudakov/Downloads/Data 2/Проект по использованию технологий компьютерного зрения на базе искусственного интеллекта для анализа медицинских изображений.json',\n",
       " '/Users/ruslanhudakov/Downloads/Data 2/MMA.Metaratings.json']"
      ]
     },
     "execution_count": 258,
     "metadata": {},
     "output_type": "execute_result"
    }
   ],
   "source": [
    "dir_json_files"
   ]
  },
  {
   "cell_type": "markdown",
   "id": "c638d7f4-10bb-4129-8005-4e9788cbfa68",
   "metadata": {},
   "source": [
    "### Алгоритм"
   ]
  },
  {
   "cell_type": "code",
   "execution_count": 261,
   "id": "0be77e3d-0b6e-442f-9c23-3891f35de8f3",
   "metadata": {},
   "outputs": [],
   "source": [
    "def parsing_json(url):\n",
    "    data = {\"nameCompany\": [], \"info\": [], \"text\": [], \"date\": [], \"rate\": [], \"views\": [],\n",
    "            }\n",
    "    \n",
    "    with open(url, 'r', encoding='utf8') as file:\n",
    "        data_test = json.load(file)\n",
    "\n",
    "        data_mini = { \"nameCompany\": [], \"info\": [], \"text\": [], \"date\": [], \"rate\": [], \"views\": []}\n",
    "    \n",
    "        data_mini['info'] = data_test['info']\n",
    "        data_mini['nameCompany'] = Path(url).stem\n",
    "        \n",
    "        for content_all in data_test['refs']:\n",
    "            if content_all is None:\n",
    "                data_mini['text'] = \"None\"\n",
    "                data_mini['date'] = \"None\"\n",
    "                data_mini['rate'] = \"None\"\n",
    "                data_mini['views'] = \"None\"\n",
    "            else:\n",
    "                data_mini['text'] = content_all[0]\n",
    "                data_mini['date'] = content_all[1]['day'] + \" \" + content_all[1]['month'] + \" \" + content_all[1]['time']\n",
    "                data_mini['rate'] = content_all[2]['rate']\n",
    "                data_mini['views'] = content_all[2]['views']\n",
    "\n",
    "            for labels in data:\n",
    "                data[labels].append(data_mini[labels]) \n",
    "\n",
    "    return dataa\n"
   ]
  },
  {
   "cell_type": "code",
   "execution_count": 263,
   "id": "4848d65b-fa04-4ea9-94f4-08755ae45ee0",
   "metadata": {},
   "outputs": [],
   "source": [
    "file_name = 'parsing_data_json.csv'\n",
    "df = pd.DataFrame(data=result_list)\n",
    "\n",
    "for link in dir_json_files:\n",
    "    data = parsing_json(link)\n",
    "    dataset = pd.DataFrame(data=data)\n",
    "    dataset.to_csv(file_name)\n",
    "    df = pd.concat([df, dataset])   \n",
    "\n",
    "df = df.reset_index(drop=True)"
   ]
  },
  {
   "cell_type": "code",
   "execution_count": 265,
   "id": "599680a7-2e33-4644-aeb4-dd093a07d37a",
   "metadata": {},
   "outputs": [
    {
     "data": {
      "text/html": [
       "<div>\n",
       "<style scoped>\n",
       "    .dataframe tbody tr th:only-of-type {\n",
       "        vertical-align: middle;\n",
       "    }\n",
       "\n",
       "    .dataframe tbody tr th {\n",
       "        vertical-align: top;\n",
       "    }\n",
       "\n",
       "    .dataframe thead th {\n",
       "        text-align: right;\n",
       "    }\n",
       "</style>\n",
       "<table border=\"1\" class=\"dataframe\">\n",
       "  <thead>\n",
       "    <tr style=\"text-align: right;\">\n",
       "      <th></th>\n",
       "      <th>nameCompany</th>\n",
       "      <th>info</th>\n",
       "      <th>text</th>\n",
       "      <th>date</th>\n",
       "      <th>rate</th>\n",
       "      <th>views</th>\n",
       "    </tr>\n",
       "  </thead>\n",
       "  <tbody>\n",
       "    <tr>\n",
       "      <th>0</th>\n",
       "      <td>Гэллэри Сервис</td>\n",
       "      <td>None</td>\n",
       "      <td>7 декабря состоялась церемония награждения лау...</td>\n",
       "      <td>8 декабря 09:30</td>\n",
       "      <td>6.0</td>\n",
       "      <td>2300.0</td>\n",
       "    </tr>\n",
       "    <tr>\n",
       "      <th>1</th>\n",
       "      <td>Гэллэри Сервис</td>\n",
       "      <td>None</td>\n",
       "      <td>Согласно информации издания «РБК», 24 марта 20...</td>\n",
       "      <td>24 марта 14:30</td>\n",
       "      <td>10.0</td>\n",
       "      <td>5900.0</td>\n",
       "    </tr>\n",
       "    <tr>\n",
       "      <th>2</th>\n",
       "      <td>Гэллэри Сервис</td>\n",
       "      <td>None</td>\n",
       "      <td>3 июня в Москве прошёл myDribbble Meetup 2017....</td>\n",
       "      <td>31 мая 14:37</td>\n",
       "      <td>21.0</td>\n",
       "      <td>1600.0</td>\n",
       "    </tr>\n",
       "    <tr>\n",
       "      <th>3</th>\n",
       "      <td>Гэллэри Сервис</td>\n",
       "      <td>None</td>\n",
       "      <td>Дайджест собирает свежие статьи по дизайну инт...</td>\n",
       "      <td>7 мая 16:09</td>\n",
       "      <td>24.0</td>\n",
       "      <td>5400.0</td>\n",
       "    </tr>\n",
       "    <tr>\n",
       "      <th>4</th>\n",
       "      <td>Гэллэри Сервис</td>\n",
       "      <td>None</td>\n",
       "      <td>По статистике, из более чем 7000 государственн...</td>\n",
       "      <td>23 декабря 03:06</td>\n",
       "      <td>16.0</td>\n",
       "      <td>8900.0</td>\n",
       "    </tr>\n",
       "    <tr>\n",
       "      <th>5</th>\n",
       "      <td>Гэллэри Сервис</td>\n",
       "      <td>None</td>\n",
       "      <td>Привет, Хабр! Сегодня мы решили поделиться с с...</td>\n",
       "      <td>12 октября 14:09</td>\n",
       "      <td>19.0</td>\n",
       "      <td>9300.0</td>\n",
       "    </tr>\n",
       "    <tr>\n",
       "      <th>6</th>\n",
       "      <td>Гэллэри Сервис</td>\n",
       "      <td>None</td>\n",
       "      <td>Уже шесть лет я публикую регулярные обзоры све...</td>\n",
       "      <td>3 октября 11:56</td>\n",
       "      <td>39.0</td>\n",
       "      <td>7700.0</td>\n",
       "    </tr>\n",
       "    <tr>\n",
       "      <th>7</th>\n",
       "      <td>Гэллэри Сервис</td>\n",
       "      <td>None</td>\n",
       "      <td>Уже шесть лет я публикую регулярные обзоры све...</td>\n",
       "      <td>7 сентября 12:57</td>\n",
       "      <td>29.0</td>\n",
       "      <td>8400.0</td>\n",
       "    </tr>\n",
       "    <tr>\n",
       "      <th>8</th>\n",
       "      <td>Гэллэри Сервис</td>\n",
       "      <td>None</td>\n",
       "      <td>Генеральный директор студии lab.AG Артём Гелле...</td>\n",
       "      <td>31 августа 14:27</td>\n",
       "      <td>54.0</td>\n",
       "      <td>31000.0</td>\n",
       "    </tr>\n",
       "    <tr>\n",
       "      <th>9</th>\n",
       "      <td>Гэллэри Сервис</td>\n",
       "      <td>None</td>\n",
       "      <td>16 апреля приглашаем участников на Весеннюю UX...</td>\n",
       "      <td>4 апреля 16:28</td>\n",
       "      <td>12.0</td>\n",
       "      <td>3200.0</td>\n",
       "    </tr>\n",
       "  </tbody>\n",
       "</table>\n",
       "</div>"
      ],
      "text/plain": [
       "      nameCompany  info                                               text  \\\n",
       "0  Гэллэри Сервис  None  7 декабря состоялась церемония награждения лау...   \n",
       "1  Гэллэри Сервис  None  Согласно информации издания «РБК», 24 марта 20...   \n",
       "2  Гэллэри Сервис  None  3 июня в Москве прошёл myDribbble Meetup 2017....   \n",
       "3  Гэллэри Сервис  None  Дайджест собирает свежие статьи по дизайну инт...   \n",
       "4  Гэллэри Сервис  None  По статистике, из более чем 7000 государственн...   \n",
       "5  Гэллэри Сервис  None  Привет, Хабр! Сегодня мы решили поделиться с с...   \n",
       "6  Гэллэри Сервис  None  Уже шесть лет я публикую регулярные обзоры све...   \n",
       "7  Гэллэри Сервис  None  Уже шесть лет я публикую регулярные обзоры све...   \n",
       "8  Гэллэри Сервис  None  Генеральный директор студии lab.AG Артём Гелле...   \n",
       "9  Гэллэри Сервис  None  16 апреля приглашаем участников на Весеннюю UX...   \n",
       "\n",
       "               date  rate    views  \n",
       "0   8 декабря 09:30   6.0   2300.0  \n",
       "1    24 марта 14:30  10.0   5900.0  \n",
       "2      31 мая 14:37  21.0   1600.0  \n",
       "3       7 мая 16:09  24.0   5400.0  \n",
       "4  23 декабря 03:06  16.0   8900.0  \n",
       "5  12 октября 14:09  19.0   9300.0  \n",
       "6   3 октября 11:56  39.0   7700.0  \n",
       "7  7 сентября 12:57  29.0   8400.0  \n",
       "8  31 августа 14:27  54.0  31000.0  \n",
       "9    4 апреля 16:28  12.0   3200.0  "
      ]
     },
     "execution_count": 265,
     "metadata": {},
     "output_type": "execute_result"
    }
   ],
   "source": [
    "df.head(10)"
   ]
  },
  {
   "cell_type": "code",
   "execution_count": 267,
   "id": "ce1af20a-506b-4979-b422-4681c81805fd",
   "metadata": {},
   "outputs": [
    {
     "name": "stdout",
     "output_type": "stream",
     "text": [
      "<class 'pandas.core.frame.DataFrame'>\n",
      "RangeIndex: 1116 entries, 0 to 1115\n",
      "Data columns (total 6 columns):\n",
      " #   Column       Non-Null Count  Dtype \n",
      "---  ------       --------------  ----- \n",
      " 0   nameCompany  1116 non-null   object\n",
      " 1   info         293 non-null    object\n",
      " 2   text         1116 non-null   object\n",
      " 3   date         1116 non-null   object\n",
      " 4   rate         1116 non-null   object\n",
      " 5   views        1116 non-null   object\n",
      "dtypes: object(6)\n",
      "memory usage: 52.4+ KB\n"
     ]
    }
   ],
   "source": [
    "df.info()"
   ]
  },
  {
   "cell_type": "code",
   "execution_count": 269,
   "id": "5a9cda0f-399c-4699-a234-d4885e3170d4",
   "metadata": {},
   "outputs": [],
   "source": [
    "df = df[~(df['text'] == \"None\") & ~(df['date'] == \"None\") & ~(df['rate'] == \"None\") & ~(df['views'] == \"None\")]"
   ]
  },
  {
   "cell_type": "code",
   "execution_count": 271,
   "id": "6b8c06ed-bf87-4e0c-913b-b7acfe6864c3",
   "metadata": {},
   "outputs": [
    {
     "data": {
      "text/html": [
       "<div>\n",
       "<style scoped>\n",
       "    .dataframe tbody tr th:only-of-type {\n",
       "        vertical-align: middle;\n",
       "    }\n",
       "\n",
       "    .dataframe tbody tr th {\n",
       "        vertical-align: top;\n",
       "    }\n",
       "\n",
       "    .dataframe thead th {\n",
       "        text-align: right;\n",
       "    }\n",
       "</style>\n",
       "<table border=\"1\" class=\"dataframe\">\n",
       "  <thead>\n",
       "    <tr style=\"text-align: right;\">\n",
       "      <th></th>\n",
       "      <th>nameCompany</th>\n",
       "      <th>info</th>\n",
       "      <th>text</th>\n",
       "      <th>date</th>\n",
       "      <th>rate</th>\n",
       "      <th>views</th>\n",
       "    </tr>\n",
       "  </thead>\n",
       "  <tbody>\n",
       "    <tr>\n",
       "      <th>0</th>\n",
       "      <td>Гэллэри Сервис</td>\n",
       "      <td>None</td>\n",
       "      <td>7 декабря состоялась церемония награждения лау...</td>\n",
       "      <td>8 декабря 09:30</td>\n",
       "      <td>6.0</td>\n",
       "      <td>2300.0</td>\n",
       "    </tr>\n",
       "    <tr>\n",
       "      <th>1</th>\n",
       "      <td>Гэллэри Сервис</td>\n",
       "      <td>None</td>\n",
       "      <td>Согласно информации издания «РБК», 24 марта 20...</td>\n",
       "      <td>24 марта 14:30</td>\n",
       "      <td>10.0</td>\n",
       "      <td>5900.0</td>\n",
       "    </tr>\n",
       "    <tr>\n",
       "      <th>2</th>\n",
       "      <td>Гэллэри Сервис</td>\n",
       "      <td>None</td>\n",
       "      <td>3 июня в Москве прошёл myDribbble Meetup 2017....</td>\n",
       "      <td>31 мая 14:37</td>\n",
       "      <td>21.0</td>\n",
       "      <td>1600.0</td>\n",
       "    </tr>\n",
       "    <tr>\n",
       "      <th>3</th>\n",
       "      <td>Гэллэри Сервис</td>\n",
       "      <td>None</td>\n",
       "      <td>Дайджест собирает свежие статьи по дизайну инт...</td>\n",
       "      <td>7 мая 16:09</td>\n",
       "      <td>24.0</td>\n",
       "      <td>5400.0</td>\n",
       "    </tr>\n",
       "    <tr>\n",
       "      <th>4</th>\n",
       "      <td>Гэллэри Сервис</td>\n",
       "      <td>None</td>\n",
       "      <td>По статистике, из более чем 7000 государственн...</td>\n",
       "      <td>23 декабря 03:06</td>\n",
       "      <td>16.0</td>\n",
       "      <td>8900.0</td>\n",
       "    </tr>\n",
       "  </tbody>\n",
       "</table>\n",
       "</div>"
      ],
      "text/plain": [
       "      nameCompany  info                                               text  \\\n",
       "0  Гэллэри Сервис  None  7 декабря состоялась церемония награждения лау...   \n",
       "1  Гэллэри Сервис  None  Согласно информации издания «РБК», 24 марта 20...   \n",
       "2  Гэллэри Сервис  None  3 июня в Москве прошёл myDribbble Meetup 2017....   \n",
       "3  Гэллэри Сервис  None  Дайджест собирает свежие статьи по дизайну инт...   \n",
       "4  Гэллэри Сервис  None  По статистике, из более чем 7000 государственн...   \n",
       "\n",
       "               date  rate   views  \n",
       "0   8 декабря 09:30   6.0  2300.0  \n",
       "1    24 марта 14:30  10.0  5900.0  \n",
       "2      31 мая 14:37  21.0  1600.0  \n",
       "3       7 мая 16:09  24.0  5400.0  \n",
       "4  23 декабря 03:06  16.0  8900.0  "
      ]
     },
     "execution_count": 271,
     "metadata": {},
     "output_type": "execute_result"
    }
   ],
   "source": [
    "df.head()"
   ]
  },
  {
   "cell_type": "code",
   "execution_count": 273,
   "id": "5e436a07-5497-48fa-8d26-7cd31e16dabd",
   "metadata": {},
   "outputs": [
    {
     "name": "stdout",
     "output_type": "stream",
     "text": [
      "<class 'pandas.core.frame.DataFrame'>\n",
      "Index: 1112 entries, 0 to 1115\n",
      "Data columns (total 6 columns):\n",
      " #   Column       Non-Null Count  Dtype \n",
      "---  ------       --------------  ----- \n",
      " 0   nameCompany  1112 non-null   object\n",
      " 1   info         293 non-null    object\n",
      " 2   text         1112 non-null   object\n",
      " 3   date         1112 non-null   object\n",
      " 4   rate         1112 non-null   object\n",
      " 5   views        1112 non-null   object\n",
      "dtypes: object(6)\n",
      "memory usage: 60.8+ KB\n"
     ]
    }
   ],
   "source": [
    "df.info()"
   ]
  },
  {
   "cell_type": "code",
   "execution_count": 275,
   "id": "0561b39c-15f4-49c0-aa59-2e078dd52852",
   "metadata": {},
   "outputs": [
    {
     "data": {
      "text/plain": [
       "array(['Гэллэри Сервис', 'ESforce Holding', 'skillbox', 'Goose Gaming',\n",
       "       'Промобот', 'Здоровье.ру', 'Студия Артемия Лебедева',\n",
       "       'Федерация креативных индустрий', 'Vinci Agency', 'Gett',\n",
       "       'Cybersport.Metaratings', 'Иннотех',\n",
       "       'Проект по использованию технологий компьютерного зрения на базе искусственного интеллекта для анализа медицинских изображений'],\n",
       "      dtype=object)"
      ]
     },
     "execution_count": 275,
     "metadata": {},
     "output_type": "execute_result"
    }
   ],
   "source": [
    "df['nameCompany'].unique()"
   ]
  },
  {
   "cell_type": "code",
   "execution_count": 277,
   "id": "8ac59a7d-4b19-42cd-9efa-160d43c5df37",
   "metadata": {},
   "outputs": [],
   "source": [
    "company_descriptions = {\n",
    "    'Cybersport.Metaratings': 'Киберспортивное медиа и аналитическая платформа',\n",
    "    'ESforce Holding': 'Крупнейший холдинг в сфере киберспорта и игровой индустрии',\n",
    "    'Gett': 'Сервис онлайн-заказа такси и логистических услуг',\n",
    "    'Goose Gaming': 'Организатор киберспортивных турниров и ивентов',\n",
    "    'skillbox': 'Онлайн-университет профессий в digital-сфере',\n",
    "    'Vinci Agency': 'Креативное digital-агентство',\n",
    "    'Гэллэри Сервис': 'Провайдер IT-решений для бизнеса',\n",
    "    'Здоровье.ру': 'Онлайн-сервис для управления здоровьем и записи к врачам',\n",
    "    'Иннотех': 'Компания, разрабатывающая инновационные технологические решения',\n",
    "    'Проект по использованию технологий компьютерного зрения на базе искусственного интеллекта для анализа медицинских изображений': 'Медицинский ИИ-проект для анализа снимков',\n",
    "    'Промобот': 'Производитель сервисных роботов',\n",
    "    'Студия Артемия Лебедева': 'Дизайн-студия и креативное агентство',\n",
    "    'Федерация креативных индустрий': 'Объединение профессионалов креативных индустрий'\n",
    "}\n",
    "\n",
    "df['info'] = df['nameCompany'].map(company_descriptions)\n"
   ]
  },
  {
   "cell_type": "code",
   "execution_count": 279,
   "id": "72161ee4-0187-4729-948c-18144e4e0e53",
   "metadata": {},
   "outputs": [],
   "source": [
    "df['views'] = df['views'].astype(int)"
   ]
  },
  {
   "cell_type": "code",
   "execution_count": 281,
   "id": "c2e4773d-603b-4a7e-96a1-2278090ac577",
   "metadata": {},
   "outputs": [
    {
     "data": {
      "text/html": [
       "<div>\n",
       "<style scoped>\n",
       "    .dataframe tbody tr th:only-of-type {\n",
       "        vertical-align: middle;\n",
       "    }\n",
       "\n",
       "    .dataframe tbody tr th {\n",
       "        vertical-align: top;\n",
       "    }\n",
       "\n",
       "    .dataframe thead th {\n",
       "        text-align: right;\n",
       "    }\n",
       "</style>\n",
       "<table border=\"1\" class=\"dataframe\">\n",
       "  <thead>\n",
       "    <tr style=\"text-align: right;\">\n",
       "      <th></th>\n",
       "      <th>nameCompany</th>\n",
       "      <th>info</th>\n",
       "      <th>text</th>\n",
       "      <th>date</th>\n",
       "      <th>rate</th>\n",
       "      <th>views</th>\n",
       "    </tr>\n",
       "  </thead>\n",
       "  <tbody>\n",
       "    <tr>\n",
       "      <th>0</th>\n",
       "      <td>Гэллэри Сервис</td>\n",
       "      <td>Провайдер IT-решений для бизнеса</td>\n",
       "      <td>7 декабря состоялась церемония награждения лау...</td>\n",
       "      <td>8 декабря 09:30</td>\n",
       "      <td>6.0</td>\n",
       "      <td>2300</td>\n",
       "    </tr>\n",
       "    <tr>\n",
       "      <th>1</th>\n",
       "      <td>Гэллэри Сервис</td>\n",
       "      <td>Провайдер IT-решений для бизнеса</td>\n",
       "      <td>Согласно информации издания «РБК», 24 марта 20...</td>\n",
       "      <td>24 марта 14:30</td>\n",
       "      <td>10.0</td>\n",
       "      <td>5900</td>\n",
       "    </tr>\n",
       "    <tr>\n",
       "      <th>2</th>\n",
       "      <td>Гэллэри Сервис</td>\n",
       "      <td>Провайдер IT-решений для бизнеса</td>\n",
       "      <td>3 июня в Москве прошёл myDribbble Meetup 2017....</td>\n",
       "      <td>31 мая 14:37</td>\n",
       "      <td>21.0</td>\n",
       "      <td>1600</td>\n",
       "    </tr>\n",
       "    <tr>\n",
       "      <th>3</th>\n",
       "      <td>Гэллэри Сервис</td>\n",
       "      <td>Провайдер IT-решений для бизнеса</td>\n",
       "      <td>Дайджест собирает свежие статьи по дизайну инт...</td>\n",
       "      <td>7 мая 16:09</td>\n",
       "      <td>24.0</td>\n",
       "      <td>5400</td>\n",
       "    </tr>\n",
       "    <tr>\n",
       "      <th>4</th>\n",
       "      <td>Гэллэри Сервис</td>\n",
       "      <td>Провайдер IT-решений для бизнеса</td>\n",
       "      <td>По статистике, из более чем 7000 государственн...</td>\n",
       "      <td>23 декабря 03:06</td>\n",
       "      <td>16.0</td>\n",
       "      <td>8900</td>\n",
       "    </tr>\n",
       "    <tr>\n",
       "      <th>5</th>\n",
       "      <td>Гэллэри Сервис</td>\n",
       "      <td>Провайдер IT-решений для бизнеса</td>\n",
       "      <td>Привет, Хабр! Сегодня мы решили поделиться с с...</td>\n",
       "      <td>12 октября 14:09</td>\n",
       "      <td>19.0</td>\n",
       "      <td>9300</td>\n",
       "    </tr>\n",
       "    <tr>\n",
       "      <th>6</th>\n",
       "      <td>Гэллэри Сервис</td>\n",
       "      <td>Провайдер IT-решений для бизнеса</td>\n",
       "      <td>Уже шесть лет я публикую регулярные обзоры све...</td>\n",
       "      <td>3 октября 11:56</td>\n",
       "      <td>39.0</td>\n",
       "      <td>7700</td>\n",
       "    </tr>\n",
       "    <tr>\n",
       "      <th>7</th>\n",
       "      <td>Гэллэри Сервис</td>\n",
       "      <td>Провайдер IT-решений для бизнеса</td>\n",
       "      <td>Уже шесть лет я публикую регулярные обзоры све...</td>\n",
       "      <td>7 сентября 12:57</td>\n",
       "      <td>29.0</td>\n",
       "      <td>8400</td>\n",
       "    </tr>\n",
       "    <tr>\n",
       "      <th>8</th>\n",
       "      <td>Гэллэри Сервис</td>\n",
       "      <td>Провайдер IT-решений для бизнеса</td>\n",
       "      <td>Генеральный директор студии lab.AG Артём Гелле...</td>\n",
       "      <td>31 августа 14:27</td>\n",
       "      <td>54.0</td>\n",
       "      <td>31000</td>\n",
       "    </tr>\n",
       "    <tr>\n",
       "      <th>9</th>\n",
       "      <td>Гэллэри Сервис</td>\n",
       "      <td>Провайдер IT-решений для бизнеса</td>\n",
       "      <td>16 апреля приглашаем участников на Весеннюю UX...</td>\n",
       "      <td>4 апреля 16:28</td>\n",
       "      <td>12.0</td>\n",
       "      <td>3200</td>\n",
       "    </tr>\n",
       "  </tbody>\n",
       "</table>\n",
       "</div>"
      ],
      "text/plain": [
       "      nameCompany                              info  \\\n",
       "0  Гэллэри Сервис  Провайдер IT-решений для бизнеса   \n",
       "1  Гэллэри Сервис  Провайдер IT-решений для бизнеса   \n",
       "2  Гэллэри Сервис  Провайдер IT-решений для бизнеса   \n",
       "3  Гэллэри Сервис  Провайдер IT-решений для бизнеса   \n",
       "4  Гэллэри Сервис  Провайдер IT-решений для бизнеса   \n",
       "5  Гэллэри Сервис  Провайдер IT-решений для бизнеса   \n",
       "6  Гэллэри Сервис  Провайдер IT-решений для бизнеса   \n",
       "7  Гэллэри Сервис  Провайдер IT-решений для бизнеса   \n",
       "8  Гэллэри Сервис  Провайдер IT-решений для бизнеса   \n",
       "9  Гэллэри Сервис  Провайдер IT-решений для бизнеса   \n",
       "\n",
       "                                                text              date  rate  \\\n",
       "0  7 декабря состоялась церемония награждения лау...   8 декабря 09:30   6.0   \n",
       "1  Согласно информации издания «РБК», 24 марта 20...    24 марта 14:30  10.0   \n",
       "2  3 июня в Москве прошёл myDribbble Meetup 2017....      31 мая 14:37  21.0   \n",
       "3  Дайджест собирает свежие статьи по дизайну инт...       7 мая 16:09  24.0   \n",
       "4  По статистике, из более чем 7000 государственн...  23 декабря 03:06  16.0   \n",
       "5  Привет, Хабр! Сегодня мы решили поделиться с с...  12 октября 14:09  19.0   \n",
       "6  Уже шесть лет я публикую регулярные обзоры све...   3 октября 11:56  39.0   \n",
       "7  Уже шесть лет я публикую регулярные обзоры све...  7 сентября 12:57  29.0   \n",
       "8  Генеральный директор студии lab.AG Артём Гелле...  31 августа 14:27  54.0   \n",
       "9  16 апреля приглашаем участников на Весеннюю UX...    4 апреля 16:28  12.0   \n",
       "\n",
       "   views  \n",
       "0   2300  \n",
       "1   5900  \n",
       "2   1600  \n",
       "3   5400  \n",
       "4   8900  \n",
       "5   9300  \n",
       "6   7700  \n",
       "7   8400  \n",
       "8  31000  \n",
       "9   3200  "
      ]
     },
     "execution_count": 281,
     "metadata": {},
     "output_type": "execute_result"
    }
   ],
   "source": [
    "df.head(10)"
   ]
  },
  {
   "cell_type": "code",
   "execution_count": null,
   "id": "6a134dfe-6291-4806-a324-687f4fc5abe1",
   "metadata": {},
   "outputs": [],
   "source": []
  }
 ],
 "metadata": {
  "kernelspec": {
   "display_name": "Python 3 (ipykernel)",
   "language": "python",
   "name": "python3"
  },
  "language_info": {
   "codemirror_mode": {
    "name": "ipython",
    "version": 3
   },
   "file_extension": ".py",
   "mimetype": "text/x-python",
   "name": "python",
   "nbconvert_exporter": "python",
   "pygments_lexer": "ipython3",
   "version": "3.12.7"
  }
 },
 "nbformat": 4,
 "nbformat_minor": 5
}
